{
 "metadata": {
  "language_info": {
   "codemirror_mode": {
    "name": "ipython",
    "version": 3
   },
   "file_extension": ".py",
   "mimetype": "text/x-python",
   "name": "python",
   "nbconvert_exporter": "python",
   "pygments_lexer": "ipython3",
   "version": 3
  },
  "orig_nbformat": 2,
  "kernelspec": {
   "name": "python_defaultSpec_1595381108219",
   "display_name": "Python 3.8.3 64-bit"
  }
 },
 "nbformat": 4,
 "nbformat_minor": 2,
 "cells": [
  {
   "cell_type": "code",
   "execution_count": 9,
   "metadata": {},
   "outputs": [],
   "source": [
    "# Product Review System written using K-Nearest Neighbours Algorithm"
   ]
  },
  {
   "cell_type": "code",
   "execution_count": 10,
   "metadata": {},
   "outputs": [],
   "source": [
    "# Import all necessary libraries\n",
    "import numpy as np\n",
    "from sklearn import preprocessing, neighbors\n",
    "import pandas as pd"
   ]
  },
  {
   "cell_type": "code",
   "execution_count": 11,
   "metadata": {},
   "outputs": [
    {
     "output_type": "execute_result",
     "data": {
      "text/plain": "               product  price_in_dollars  overall_rating  design  features  \\\n0      Apple iPhone 6S             100.0             8.9       9         9   \n1      Apple iPhone 11             699.0             9.0       8         9   \n2  Samsung Galaxy S10E             595.0             8.9       9         8   \n3   Samsung Galaxy A50             348.0             8.4       8         8   \n4      Apple iPhone XS             489.0             8.8       9         9   \n\n   performance  camera  battery  comment  \n0          9.0       9      7.0  premium  \n1         10.0       9      8.0  premium  \n2          9.0       8     10.0  premium  \n3          8.0       8     10.0   budget  \n4         10.0       9      8.0  premium  ",
      "text/html": "<div>\n<style scoped>\n    .dataframe tbody tr th:only-of-type {\n        vertical-align: middle;\n    }\n\n    .dataframe tbody tr th {\n        vertical-align: top;\n    }\n\n    .dataframe thead th {\n        text-align: right;\n    }\n</style>\n<table border=\"1\" class=\"dataframe\">\n  <thead>\n    <tr style=\"text-align: right;\">\n      <th></th>\n      <th>product</th>\n      <th>price_in_dollars</th>\n      <th>overall_rating</th>\n      <th>design</th>\n      <th>features</th>\n      <th>performance</th>\n      <th>camera</th>\n      <th>battery</th>\n      <th>comment</th>\n    </tr>\n  </thead>\n  <tbody>\n    <tr>\n      <th>0</th>\n      <td>Apple iPhone 6S</td>\n      <td>100.0</td>\n      <td>8.9</td>\n      <td>9</td>\n      <td>9</td>\n      <td>9.0</td>\n      <td>9</td>\n      <td>7.0</td>\n      <td>premium</td>\n    </tr>\n    <tr>\n      <th>1</th>\n      <td>Apple iPhone 11</td>\n      <td>699.0</td>\n      <td>9.0</td>\n      <td>8</td>\n      <td>9</td>\n      <td>10.0</td>\n      <td>9</td>\n      <td>8.0</td>\n      <td>premium</td>\n    </tr>\n    <tr>\n      <th>2</th>\n      <td>Samsung Galaxy S10E</td>\n      <td>595.0</td>\n      <td>8.9</td>\n      <td>9</td>\n      <td>8</td>\n      <td>9.0</td>\n      <td>8</td>\n      <td>10.0</td>\n      <td>premium</td>\n    </tr>\n    <tr>\n      <th>3</th>\n      <td>Samsung Galaxy A50</td>\n      <td>348.0</td>\n      <td>8.4</td>\n      <td>8</td>\n      <td>8</td>\n      <td>8.0</td>\n      <td>8</td>\n      <td>10.0</td>\n      <td>budget</td>\n    </tr>\n    <tr>\n      <th>4</th>\n      <td>Apple iPhone XS</td>\n      <td>489.0</td>\n      <td>8.8</td>\n      <td>9</td>\n      <td>9</td>\n      <td>10.0</td>\n      <td>9</td>\n      <td>8.0</td>\n      <td>premium</td>\n    </tr>\n  </tbody>\n</table>\n</div>"
     },
     "metadata": {},
     "execution_count": 11
    }
   ],
   "source": [
    "# Loading the dataset\n",
    "df = pd.read_csv('phone_review_dataset.csv')\n",
    "# Viewing the Dataset\n",
    "df.head()"
   ]
  },
  {
   "cell_type": "code",
   "execution_count": 12,
   "metadata": {},
   "outputs": [],
   "source": [
    "# Removing unnecessary columns of data\n",
    "df.drop(['product'], 1, inplace=True)\n",
    "df.drop(['price_in_dollars'], 1, inplace=True)\n",
    "df.drop(['overall_rating'], 1, inplace=True)"
   ]
  },
  {
   "cell_type": "code",
   "execution_count": 17,
   "metadata": {},
   "outputs": [],
   "source": [
    "# Defining Features and Class\n",
    "# X are the features and y is the Class\n",
    "X = np.array(df.drop(['comment'],1))\n",
    "y = np.array(df['comment'])\n",
    "from sklearn.model_selection import train_test_split\n",
    "X_train, X_test, y_train, y_test = train_test_split(X, y, test_size = 0.33)"
   ]
  },
  {
   "cell_type": "code",
   "execution_count": 18,
   "metadata": {},
   "outputs": [
    {
     "output_type": "execute_result",
     "data": {
      "text/plain": "KNeighborsClassifier()"
     },
     "metadata": {},
     "execution_count": 18
    }
   ],
   "source": [
    "# Training the model\n",
    "clf = neighbors.KNeighborsClassifier()\n",
    "clf.fit(X_train, y_train)"
   ]
  },
  {
   "cell_type": "code",
   "execution_count": 19,
   "metadata": {
    "tags": []
   },
   "outputs": [
    {
     "output_type": "stream",
     "name": "stdout",
     "text": "0.9090909090909091\n"
    }
   ],
   "source": [
    "# Evaluate the accuracy of the algorithm\n",
    "accuracy = clf.score(X_test, y_test)\n",
    "print(accuracy)"
   ]
  },
  {
   "cell_type": "code",
   "execution_count": 20,
   "metadata": {
    "tags": []
   },
   "outputs": [
    {
     "output_type": "stream",
     "name": "stdout",
     "text": "['budget' 'budget']\n"
    }
   ],
   "source": [
    "# Testing samples\n",
    "test_sample = np.array([[6,6,7,8,10],[9,9,6,8,7]] )\n",
    "test_sample = test_sample.reshape(len(test_sample),-1)\n",
    "prediction = clf.predict(test_sample)\n",
    "print(prediction) "
   ]
  }
 ]
}